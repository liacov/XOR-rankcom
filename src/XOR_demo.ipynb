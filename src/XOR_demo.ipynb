{
 "cells": [
  {
   "cell_type": "markdown",
   "metadata": {
    "toc": true
   },
   "source": [
    "<h1>Table of Contents<span class=\"tocSkip\"></span></h1>\n",
    "<div class=\"toc\"><ul class=\"toc-item\"><li><span><a href=\"#Before-running-the-notebook\" data-toc-modified-id=\"Before-running-the-notebook-1\"><span class=\"toc-item-num\">1&nbsp;&nbsp;</span>Before running the notebook</a></span></li><li><span><a href=\"#Generation\" data-toc-modified-id=\"Generation-2\"><span class=\"toc-item-num\">2&nbsp;&nbsp;</span>Generation</a></span></li><li><span><a href=\"#XOR\" data-toc-modified-id=\"XOR-3\"><span class=\"toc-item-num\">3&nbsp;&nbsp;</span>XOR</a></span></li><li><span><a href=\"#Visualize-results\" data-toc-modified-id=\"Visualize-results-4\"><span class=\"toc-item-num\">4&nbsp;&nbsp;</span>Visualize results</a></span></li><li><span><a href=\"#MT\" data-toc-modified-id=\"MT-5\"><span class=\"toc-item-num\">5&nbsp;&nbsp;</span>MT</a></span></li><li><span><a href=\"#SR\" data-toc-modified-id=\"SR-6\"><span class=\"toc-item-num\">6&nbsp;&nbsp;</span>SR</a></span></li></ul></div>"
   ]
  },
  {
   "cell_type": "code",
   "execution_count": 1,
   "metadata": {},
   "outputs": [],
   "source": [
    "%load_ext autoreload\n",
    "%autoreload 2\n",
    "\n",
    "import os\n",
    "import sys\n",
    "import warnings\n",
    "import numpy as np\n",
    "import pandas as pd\n",
    "import scipy.special as ss\n",
    "import matplotlib.pyplot as plt\n",
    "from sklearn.metrics import accuracy_score\n",
    "from scipy.stats import pearsonr\n",
    "\n",
    "module_path = os.path.abspath(os.path.join('./modules/'))\n",
    "scripts_path = os.path.abspath(os.path.join('./scripts/'))\n",
    "sys.path.append(module_path)\n",
    "sys.path.append(scripts_path)\n",
    "\n",
    "np.seterr(all='ignore')\n",
    "ss.seterr(all='ignore')\n",
    "warnings.simplefilter(action='ignore', category=FutureWarning)\n",
    "\n",
    "from main import main as infer\n",
    "from generate_graph import main as generate\n",
    "from compute_metrics import membership_metrics, normalize_nonzero_membership, calculate_AUC"
   ]
  },
  {
   "cell_type": "code",
   "execution_count": 2,
   "metadata": {},
   "outputs": [],
   "source": [
    "cmap = 'PuBuGn'\n",
    "\n",
    "def extract_overlapping_membership(i, cm, U, threshold=0.1):\n",
    "    groups = np.where(U[i] > threshold)[0]\n",
    "    wedge_sizes = U[i][groups]\n",
    "    wedge_colors = [cm(c) for c in groups]\n",
    "    return wedge_sizes, wedge_colors\n",
    "\n",
    "def normalize_nonzero_membership(U):\n",
    "    den1 = U.sum(axis=1, keepdims=True)\n",
    "    nzz = den1 == 0.\n",
    "    den1[nzz] = 1.\n",
    "    return U / den1"
   ]
  },
  {
   "cell_type": "markdown",
   "metadata": {},
   "source": [
    "# Before running the notebook\n",
    "\n",
    "- Modify the _generation_ setting file inserting the right output path, e.g. <code>folder: \"../data/input/\"</code>;\n",
    "- Modify the _generation_ setting file inserting the right output path, e.g. <code>label: \"test\"</code>;\n",
    "- Modify the _inference_ setting file inserting the right output path, e.g. <code>folder: \"../data/output/XOR/\"</code>;\n",
    "- Modify the _inference_ setting file choosing the right flag value for outputting results, e.g. <code>output_inference: True</code>;\n",
    "- Modify the _cells_ defining the <code>args</code> dictionary inserting the desired input for the <code>generate</code>  and <code>infer</code> functions."
   ]
  },
  {
   "cell_type": "markdown",
   "metadata": {},
   "source": [
    "# Generation\n",
    "\n",
    "Graphs realizations are drawn from the specified distribution; here self loops are allowed."
   ]
  },
  {
   "cell_type": "code",
   "execution_count": 3,
   "metadata": {},
   "outputs": [],
   "source": [
    "gen_args = {\n",
    "            'min_ratio': 0.8,                          # bottom value for the range of interest for mu\n",
    "            'max_ratio': np.nan,                       # top value for the range of interest for mu\n",
    "            'step_ratio': np.nan,                      # stepsize value for the range of interest for mu\n",
    "            'samples': 1,                              # number of samples to be drawn for each set of params\n",
    "            'settings': './setting_syn_XOR.yaml'       # path to the setting file to be used\n",
    "            }"
   ]
  },
  {
   "cell_type": "code",
   "execution_count": 4,
   "metadata": {},
   "outputs": [
    {
     "name": "stdout",
     "output_type": "stream",
     "text": [
      "\n",
      "--- Generating with XOR model ---\n",
      "Number of links in the upper triangular matrix: 316\n",
      "Number of links in the lower triangular matrix: 262\n",
      "Sum of weights in the upper triangular matrix: 452\n",
      "Sum of weights in the lower triangular matrix: 386\n",
      "Removed 0 nodes, because not part of the largest connected component\n",
      "Number of nodes: 100 \n",
      "Number of edges: 600\n",
      "Average degree (E/N): 6.0\n",
      "Average weighted degree (M/N): 8.66\n",
      "\n",
      "Parameters saved in: ../../data/input/results_test_r0.8_XOR_112.npz\n",
      "To load: theta=np.load(filename), then e.g. theta[\"u\"]\n",
      "Adjacency matrix saved in: ../../data/input/syn_test_r0.8_XOR_112.dat\n"
     ]
    }
   ],
   "source": [
    "generate(gen_args)"
   ]
  },
  {
   "cell_type": "code",
   "execution_count": 5,
   "metadata": {},
   "outputs": [],
   "source": [
    "in_folder = '../data/input'\n",
    "theta_GT = np.load(f'{in_folder}/results_test_r0.8_XOR_112.npz')"
   ]
  },
  {
   "cell_type": "markdown",
   "metadata": {},
   "source": [
    "# XOR\n",
    "\n",
    "Data are loaded and preprocessed (e.g. self loops are removed); the XOR inference algorithm is run."
   ]
  },
  {
   "cell_type": "code",
   "execution_count": 6,
   "metadata": {},
   "outputs": [],
   "source": [
    "inf_args = {\n",
    "            'adj' : 'syn_test_r0.8_XOR_112.dat',         # name of the network file\n",
    "            'in_folder' : '../data/input/',              # folder of the input network\n",
    "            'algorithm' : 'XOR',                         # the desired inference model\n",
    "            'settings' : 'setting_XOR.yaml',             # complete path of the settings file\n",
    "            'K' : 3,                                     # number of communities to infer\n",
    "            'beta' : 5,                                  # inverse temperature parameter\n",
    "            'NFold' : 5,                                 # number of folds to perform cross-validation\n",
    "            'out_mask' : False                           # flag to output the masks\n",
    "            }"
   ]
  },
  {
   "cell_type": "code",
   "execution_count": 7,
   "metadata": {
    "scrolled": true
   },
   "outputs": [
    {
     "name": "stdout",
     "output_type": "stream",
     "text": [
      "../data/input/syn_test_r0.8_XOR_112.dat shape: (600, 3)\n",
      "Number of nodes = 100\n",
      "Number of layers = 1\n",
      "Number of edges and average degree in each layer:\n",
      "E[0] = 578 - <k> = 5.78\n",
      "M[0] = 838 - <k_weighted> = 8.38\n",
      "\n",
      "--- Run inference with XOR model ---\n",
      "\n"
     ]
    },
    {
     "name": "stderr",
     "output_type": "stream",
     "text": [
      "OMP: Info #271: omp_set_nested routine deprecated, please use omp_set_max_active_levels instead.\n"
     ]
    },
    {
     "name": "stdout",
     "output_type": "stream",
     "text": [
      "\n",
      "Time elapsed: 6.99 seconds.\n"
     ]
    }
   ],
   "source": [
    "# The model output function appends results to existing dataframe if it is found in memory.\n",
    "# Delete if you want to avoid repetitions of lines or drop duplicates when loading.\n",
    "! rm -r ../data/output/XOR\n",
    "\n",
    "infer(inf_args)"
   ]
  },
  {
   "cell_type": "code",
   "execution_count": 8,
   "metadata": {},
   "outputs": [],
   "source": [
    "folder = '../data/output/XOR'\n",
    "metrics = pd.read_csv(f'{folder}/metrics_test_r0.8_XOR_112_XOR.csv')\n",
    "conv = metrics.convergence_out == True\n",
    "best_seed = metrics[metrics[conv].logL_out == np.max(metrics[conv].logL_out)].seed_out.item()\n",
    "\n",
    "theta = np.load(f'{folder}/parameters_test_r0.8_XOR_112_XOR_{str(best_seed)}.npz')"
   ]
  },
  {
   "cell_type": "code",
   "execution_count": 9,
   "metadata": {},
   "outputs": [
    {
     "data": {
      "text/plain": [
       "['s',\n",
       " 'c',\n",
       " 'beta',\n",
       " 'gamma',\n",
       " 'u',\n",
       " 'v',\n",
       " 'w',\n",
       " 'Q',\n",
       " 'ratio',\n",
       " 'delta0',\n",
       " 'K',\n",
       " 'nodes_s',\n",
       " 'nodes_c']"
      ]
     },
     "execution_count": 9,
     "metadata": {},
     "output_type": "execute_result"
    }
   ],
   "source": [
    "list(theta.keys())"
   ]
  },
  {
   "cell_type": "code",
   "execution_count": 10,
   "metadata": {},
   "outputs": [
    {
     "name": "stdout",
     "output_type": "stream",
     "text": [
      "Inferred % of nodes interacting with hierarchy: 0.8300000059979565\n",
      "Ground truth % of nodes interacting with hierarchy: 0.83\n"
     ]
    }
   ],
   "source": [
    "print('Inferred % of nodes interacting with hierarchy:',theta['ratio'])\n",
    "print('Ground truth % of nodes interacting with hierarchy:',theta_GT['sigma'].sum()/theta_GT['sigma'].shape[0])"
   ]
  },
  {
   "cell_type": "markdown",
   "metadata": {},
   "source": [
    "# Visualize results"
   ]
  },
  {
   "cell_type": "markdown",
   "metadata": {},
   "source": [
    "### Ground truth $\\sigma$"
   ]
  },
  {
   "cell_type": "code",
   "execution_count": 11,
   "metadata": {},
   "outputs": [
    {
     "data": {
      "text/plain": [
       "array([1, 1, 0, 1, 1, 0, 1, 0, 0, 1, 1, 0, 1, 1, 1, 1, 1, 0, 0, 1, 1, 1,\n",
       "       1, 1, 1, 1, 1, 1, 1, 0, 1, 1, 0, 1, 1, 1, 1, 1, 1, 1, 1, 1, 1, 1,\n",
       "       1, 1, 1, 1, 1, 1, 1, 1, 1, 0, 1, 1, 0, 0, 0, 1, 1, 0, 1, 1, 1, 1,\n",
       "       1, 1, 1, 1, 1, 1, 1, 0, 1, 1, 1, 1, 1, 1, 1, 1, 1, 1, 1, 1, 1, 1,\n",
       "       1, 1, 1, 0, 1, 1, 1, 1, 0, 1, 1, 1])"
      ]
     },
     "execution_count": 11,
     "metadata": {},
     "output_type": "execute_result"
    }
   ],
   "source": [
    "theta_GT['sigma']"
   ]
  },
  {
   "cell_type": "markdown",
   "metadata": {},
   "source": [
    "### Inferred $\\sigma$"
   ]
  },
  {
   "cell_type": "code",
   "execution_count": 12,
   "metadata": {},
   "outputs": [
    {
     "data": {
      "text/plain": [
       "array([[1, 1, 0, 1, 1, 0, 1, 0, 0, 0, 1, 0, 1, 1, 1, 1, 0, 0, 0, 1, 1, 1,\n",
       "        1, 1, 1, 1, 1, 1, 0, 0, 1, 1, 0, 1, 1, 1, 1, 1, 1, 0, 0, 1, 1, 1,\n",
       "        1, 0, 0, 1, 1, 1, 1, 1, 1, 0, 1, 1, 0, 0, 0, 0, 1, 0, 1, 1, 1, 1,\n",
       "        1, 1, 1, 1, 1, 1, 1, 0, 1, 1, 0, 1, 1, 1, 1, 1, 1, 1, 1, 1, 1, 1,\n",
       "        1, 1, 1, 0, 1, 1, 1, 1, 0, 1, 1, 1]])"
      ]
     },
     "execution_count": 12,
     "metadata": {},
     "output_type": "execute_result"
    }
   ],
   "source": [
    "theta['Q'].astype('int')"
   ]
  },
  {
   "cell_type": "markdown",
   "metadata": {},
   "source": [
    "### Ranking"
   ]
  },
  {
   "cell_type": "code",
   "execution_count": 13,
   "metadata": {},
   "outputs": [
    {
     "data": {
      "image/png": "[encoded data removed]",
      "text/plain": [
       "<Figure size 432x288 with 1 Axes>"
      ]
     },
     "metadata": {
      "needs_background": "light"
     },
     "output_type": "display_data"
    }
   ],
   "source": [
    "plt.figure()\n",
    "plt.scatter(theta_GT['s'][theta_GT['sigma']==1],theta['s'][theta_GT['sigma']==1],s=100,c='royalblue',edgecolors='black')\n",
    "plt.ylabel(r'$s_{inferred}$',fontsize=20)\n",
    "plt.xlabel(r'$s_{GT}$',fontsize=20)\n",
    "plt.show()"
   ]
  },
  {
   "cell_type": "markdown",
   "metadata": {},
   "source": [
    "### Communities"
   ]
  },
  {
   "cell_type": "markdown",
   "metadata": {},
   "source": [
    "#### Extract networks (for visualization)"
   ]
  },
  {
   "cell_type": "code",
   "execution_count": 14,
   "metadata": {},
   "outputs": [],
   "source": [
    "import networkx as nx\n",
    "from tools import import_data\n",
    "from matplotlib.colors import LinearSegmentedColormap\n",
    "from matplotlib.colors import ListedColormap\n",
    "from matplotlib.ticker import MaxNLocator\n",
    "from compute_metrics import opt_permutation"
   ]
  },
  {
   "cell_type": "code",
   "execution_count": 15,
   "metadata": {},
   "outputs": [
    {
     "name": "stdout",
     "output_type": "stream",
     "text": [
      "../../data/input/syn_test_r0.8_XOR_112.dat shape: (600, 3)\n",
      "Number of nodes = 100\n",
      "Number of layers = 1\n",
      "Number of edges and average degree in each layer:\n",
      "E[0] = 578 - <k> = 5.78\n",
      "M[0] = 838 - <k_weighted> = 8.38\n"
     ]
    }
   ],
   "source": [
    "G = import_data('../../data/input/syn_test_r0.8_XOR_112.dat', header=0)[0][0]\n",
    "\n",
    "Gc = max(nx.weakly_connected_components(G), key=len)\n",
    "nodes_to_remove = set(G.nodes()).difference(Gc)\n",
    "G.remove_nodes_from(list(nodes_to_remove))"
   ]
  },
  {
   "cell_type": "markdown",
   "metadata": {},
   "source": [
    "#### Plot network"
   ]
  },
  {
   "cell_type": "code",
   "execution_count": 16,
   "metadata": {},
   "outputs": [],
   "source": [
    "from_list = LinearSegmentedColormap.from_list\n",
    "cm = from_list('Set15', plt.cm.Set1(range(0,10)), 10)\n",
    "cmap = cm\n",
    "\n",
    "wedgeprops = {'edgecolor' : 'lightgrey'}"
   ]
  },
  {
   "cell_type": "code",
   "execution_count": 17,
   "metadata": {},
   "outputs": [],
   "source": [
    "u_gt = normalize_nonzero_membership(theta_GT['u'])\n",
    "u_inf = normalize_nonzero_membership(theta['u'])\n",
    "N = u_gt.shape[0]\n",
    "# Add one column for a dummy membership, this is for nodes with sigma_i=1\n",
    "u_gt = np.hstack((u_gt,np.zeros((N,1)))) \n",
    "u_inf = np.hstack((u_inf,np.zeros((N,1)))) \n",
    "u_gt[np.where(theta_GT['sigma']==1)[0]] = 0\n",
    "u_gt[np.where(theta_GT['sigma']==1)[0],-1] = 1\n",
    "u_inf[np.where(theta['Q'][0]==1)[0],-1] = 1\n",
    "# Permute so that groups GT correspond to inferred\n",
    "u_inf = np.dot(u_inf, opt_permutation(u_inf, u_gt))  # permute on clusters (2nd dimension)"
   ]
  },
  {
   "cell_type": "code",
   "execution_count": 18,
   "metadata": {},
   "outputs": [],
   "source": [
    "# Custom position, for better visualization\n",
    "delta = 0.6\n",
    "C = theta['u'].shape[1] +1\n",
    "pos_groups = nx.circular_layout(nx.cycle_graph(C))\n",
    "pos = {}\n",
    "nodes = list(G.nodes())\n",
    "for c, i in enumerate(nodes):\n",
    "    r = np.random.rand() * 2 * np.math.pi\n",
    "    radius = np.random.rand()\n",
    "    pos[i] = pos_groups[np.argmax(u_gt[c])] + delta * radius * np.array([np.math.cos(r), np.math.sin(r)])"
   ]
  },
  {
   "cell_type": "code",
   "execution_count": 19,
   "metadata": {},
   "outputs": [
    {
     "data": {
      "image/png": "[encoded data removed]",
      "text/plain": [
       "<Figure size 864x432 with 2 Axes>"
      ]
     },
     "metadata": {},
     "output_type": "display_data"
    }
   ],
   "source": [
    "rad = 0.09\n",
    "plt.figure(figsize=(12,6))\n",
    "\n",
    "plt.subplot(1, 2, 1)\n",
    "ax = plt.gca()\n",
    "nx.draw_networkx_edges(G, pos,arrows=False, edge_color='lightgrey', alpha=0.5)\n",
    "for n in list(G.nodes()):\n",
    "    wedge_sizes, wedge_colors = extract_overlapping_membership(n, cm, u_gt, threshold=0.1)\n",
    "    if len(wedge_sizes) > 0:\n",
    "        pie,t = plt.pie(wedge_sizes, center=pos[n], colors=wedge_colors,\n",
    "                        radius=rad, wedgeprops=wedgeprops, normalize=False)\n",
    "ax.axis(\"equal\")\n",
    "plt.title('Ground truth')\n",
    "\n",
    "plt.subplot(1, 2, 2)\n",
    "ax = plt.gca()\n",
    "nx.draw_networkx_edges(G, pos, arrows=False, edge_color='lightgrey', alpha=0.5)\n",
    "for n in list(G.nodes()):\n",
    "    wedge_sizes, wedge_colors = extract_overlapping_membership(n, cm, u_inf, threshold=0.1)\n",
    "    if len(wedge_sizes) > 0:\n",
    "        pie,t = plt.pie(wedge_sizes, center=pos[n], colors=wedge_colors,\n",
    "                        radius=rad, wedgeprops=wedgeprops, normalize=False)\n",
    "ax.axis(\"equal\")\n",
    "plt.title('Inferred')\n",
    "plt.show()"
   ]
  },
  {
   "cell_type": "markdown",
   "metadata": {},
   "source": [
    "# MT"
   ]
  },
  {
   "cell_type": "code",
   "execution_count": 20,
   "metadata": {},
   "outputs": [],
   "source": [
    "inf_args = {\n",
    "            'adj' : 'syn_test_r0.8_XOR_112.dat',         # name of the network file\n",
    "            'in_folder' : '../data/input/',              # folder of the input network\n",
    "            'algorithm' : 'MT',                          # the desired inference model\n",
    "            'settings' : 'setting_MT.yaml',              # complete path of the settings file\n",
    "            'K' : 3,                                     # number of communities to infer\n",
    "            'beta' : 5,                                  # inverse temperature parameter\n",
    "            'NFold' : 5,                                 # number of folds to perform cross-validation\n",
    "            'out_mask' : False                           # flag to output the masks\n",
    "            }"
   ]
  },
  {
   "cell_type": "code",
   "execution_count": 21,
   "metadata": {
    "scrolled": true
   },
   "outputs": [
    {
     "name": "stdout",
     "output_type": "stream",
     "text": [
      "../data/input/syn_test_r0.8_XOR_112.dat shape: (600, 3)\n",
      "Number of nodes = 100\n",
      "Number of layers = 1\n",
      "Number of edges and average degree in each layer:\n",
      "E[0] = 578 - <k> = 5.78\n",
      "M[0] = 838 - <k_weighted> = 8.38\n",
      "\n",
      "--- Run inference with MT model ---\n",
      "\n",
      "\n",
      "Time elapsed: 0.93 seconds.\n"
     ]
    }
   ],
   "source": [
    "# The model output function appends results to existing dataframe if it is found in memory.\n",
    "# Delete if you want to avoid repetitions of lines or drop duplicates when loading.\n",
    "! rm -r ../data/output/MT\n",
    "\n",
    "infer(inf_args)"
   ]
  },
  {
   "cell_type": "code",
   "execution_count": 22,
   "metadata": {},
   "outputs": [],
   "source": [
    "folder = '../data/output/MT'\n",
    "metrics = pd.read_csv(f'{folder}/metrics_test_r0.8_XOR_112_MT.csv')\n",
    "conv = metrics.convergence_out == True\n",
    "best_seed = metrics[metrics[conv].logL_out == np.max(metrics[conv].logL_out)].seed_out.item()\n",
    "\n",
    "theta_MT = np.load(f'{folder}/parameters_test_r0.8_XOR_112_MT_{str(best_seed)}.npz')"
   ]
  },
  {
   "cell_type": "code",
   "execution_count": 23,
   "metadata": {},
   "outputs": [
    {
     "data": {
      "text/plain": [
       "['s',\n",
       " 'c',\n",
       " 'beta',\n",
       " 'gamma',\n",
       " 'u',\n",
       " 'v',\n",
       " 'w',\n",
       " 'Q',\n",
       " 'ratio',\n",
       " 'delta0',\n",
       " 'K',\n",
       " 'nodes_s',\n",
       " 'nodes_c']"
      ]
     },
     "execution_count": 23,
     "metadata": {},
     "output_type": "execute_result"
    }
   ],
   "source": [
    "list(theta.keys())"
   ]
  },
  {
   "cell_type": "markdown",
   "metadata": {},
   "source": [
    "# SR"
   ]
  },
  {
   "cell_type": "code",
   "execution_count": 24,
   "metadata": {},
   "outputs": [],
   "source": [
    "inf_args = {\n",
    "            'adj' : 'syn_test_r0.8_XOR_112.dat',         # name of the network file\n",
    "            'in_folder' : '../data/input/',              # folder of the input network\n",
    "            'algorithm' : 'SR',                          # the desired inference model\n",
    "            'settings' : 'setting_SR.yaml',              # complete path of the settings file\n",
    "            'K' : 0,                                     # number of communities to infer NOT USED IN THIS CASE\n",
    "            'beta' : 5,                                  # inverse temperature parameter NOT USED IN THIS CASE\n",
    "            'NFold' : 5,                                 # number of folds to perform cross-validation\n",
    "            'out_mask' : False                           # flag to output the masks\n",
    "            }"
   ]
  },
  {
   "cell_type": "code",
   "execution_count": 25,
   "metadata": {},
   "outputs": [
    {
     "name": "stdout",
     "output_type": "stream",
     "text": [
      "../data/input/syn_test_r0.8_XOR_112.dat shape: (600, 3)\n",
      "Number of nodes = 100\n",
      "Number of layers = 1\n",
      "Number of edges and average degree in each layer:\n",
      "E[0] = 578 - <k> = 5.78\n",
      "M[0] = 838 - <k_weighted> = 8.38\n",
      "\n",
      "--- Run inference with SR model ---\n",
      "\n",
      "\n",
      "Time elapsed: 3.14 seconds.\n"
     ]
    }
   ],
   "source": [
    "# The model output function appends results to existing dataframe if it is found in memory.\n",
    "# Delete if you want to avoid repetitions of lines or drop duplicates when loading.\n",
    "! rm -r ../data/output/SR\n",
    "\n",
    "infer(inf_args)"
   ]
  },
  {
   "cell_type": "code",
   "execution_count": 26,
   "metadata": {},
   "outputs": [],
   "source": [
    "folder = '../data/output/SR'\n",
    "theta_SR = np.load(f'{folder}/parameters_test_r0.8_XOR_112_SR.npz')"
   ]
  },
  {
   "cell_type": "code",
   "execution_count": 27,
   "metadata": {},
   "outputs": [
    {
     "data": {
      "text/plain": [
       "['s', 'beta', 'c', 'nodes']"
      ]
     },
     "execution_count": 27,
     "metadata": {},
     "output_type": "execute_result"
    }
   ],
   "source": [
    "list(theta_SR.keys())"
   ]
  }
 ],
 "metadata": {
  "kernelspec": {
   "display_name": "Python 3 (ipykernel)",
   "language": "python",
   "name": "python3"
  },
  "language_info": {
   "codemirror_mode": {
    "name": "ipython",
    "version": 3
   },
   "file_extension": ".py",
   "mimetype": "text/x-python",
   "name": "python",
   "nbconvert_exporter": "python",
   "pygments_lexer": "ipython3",
   "version": "3.9.7"
  },
  "toc": {
   "base_numbering": 1,
   "nav_menu": {},
   "number_sections": true,
   "sideBar": true,
   "skip_h1_title": false,
   "title_cell": "Table of Contents",
   "title_sidebar": "Contents",
   "toc_cell": true,
   "toc_position": {
    "height": "1129px",
    "left": "829px",
    "top": "223px",
    "width": "384px"
   },
   "toc_section_display": true,
   "toc_window_display": true
  }
 },
 "nbformat": 4,
 "nbformat_minor": 4
}
